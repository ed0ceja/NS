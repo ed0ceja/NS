{
  "cells": [
    {
      "cell_type": "markdown",
      "metadata": {},
      "source": [
        "# 🐱🐶 Cat vs Dog Classifier - Gradio Server\n",
        "\n",
        "This notebook loads the trained model and serves it through a Gradio web interface."
      ]
    },
    {
      "cell_type": "markdown",
      "metadata": {},
      "source": [
        "## Step 1: Import FastAI"
      ]
    },
    {
      "cell_type": "code",
      "execution_count": null,
      "metadata": {},
      "outputs": [],
      "source": [
        "from fastai.vision.all import *\n",
        "import os"
      ]
    },
    {
      "cell_type": "markdown",
      "metadata": {},
      "source": [
        "## Step 2: Load the Trained Model"
      ]
    },
    {
      "cell_type": "code",
      "execution_count": null,
      "metadata": {},
      "outputs": [],
      "source": [
        "# Load the trained model from the root directory\n",
        "model_path = '../model.pkl'\n",
        "\n",
        "if not os.path.exists(model_path):\n",
        "    print(f\"❌ Model file '{model_path}' not found!\")\n",
        "    print(\"Please run notebooks/dogs_cats.ipynb first to train and export the model.\")\n",
        "else:\n",
        "    learn = load_learner(model_path)\n",
        "    print(\"✅ Model loaded successfully!\")\n",
        "    print(f\"📊 Model classes: {learn.dls.vocab}\")"
      ]
    },
    {
      "cell_type": "markdown",
      "metadata": {},
      "source": [
        "## Step 3: Define Prediction Function"
      ]
    },
    {
      "cell_type": "code",
      "execution_count": null,
      "metadata": {},
      "outputs": [],
      "source": [
        "def predict(img):\n",
        "    \"\"\"Predict if image contains a cat or dog\"\"\"\n",
        "    try:\n",
        "        # Create PIL image\n",
        "        img = PILImage.create(img)\n",
        "        \n",
        "        # Get prediction\n",
        "        pred, pred_idx, probs = learn.predict(img)\n",
        "        \n",
        "        # Get labels\n",
        "        labels = learn.dls.vocab\n",
        "        \n",
        "        # Create result dictionary\n",
        "        result = {labels[i]: float(probs[i]) for i in range(len(labels))}\n",
        "        \n",
        "        return result\n",
        "    except Exception as e:\n",
        "        print(f\"Prediction error: {e}\")\n",
        "        return {\"Error\": str(e)}"
      ]
    },
    {
      "cell_type": "markdown",
      "metadata": {},
      "source": [
        "## Step 4: Create and Launch Gradio Interface"
      ]
    },
    {
      "cell_type": "code",
      "execution_count": null,
      "metadata": {},
      "outputs": [],
      "source": [
        "import gradio as gr\n",
        "\n",
        "# Create the interface\n",
        "interface = gr.Interface(\n",
        "    fn=predict,\n",
        "    inputs=gr.Image(type=\"pil\"),\n",
        "    outputs=gr.Label(num_top_classes=3),\n",
        "    title=\"🐱🐶 Cat vs Dog Classifier\",\n",
        "    description=\"Upload an image and I'll tell you if it's a cat or a dog!\",\n",
        "    examples=[\n",
        "        [\"../data/cat1.png\"],\n",
        "        [\"../data/dog1.png\"],\n",
        "        [\"../data/catdog.png\"]\n",
        "    ] if os.path.exists(\"../data\") else None\n",
        ")\n",
        "\n",
        "# Launch the server\n",
        "print(\"🚀 Starting Gradio server...\")\n",
        "interface.launch(\n",
        "    share=True,\n",
        "    server_name=\"0.0.0.0\",\n",
        "    show_error=True\n",
        ")"
      ]
    }
  ],
  "metadata": {
    "kernelspec": {
      "display_name": ".env",
      "language": "python",
      "name": "python3"
    },
    "language_info": {
      "codemirror_mode": {
        "name": "ipython",
        "version": 3
      },
      "file_extension": ".py",
      "mimetype": "text/x-python",
      "name": "python",
      "nbconvert_exporter": "python",
      "pygments_lexer": "ipython3",
      "version": "3.12.11"
    }
  },
  "nbformat": 4,
  "nbformat_minor": 4
}
